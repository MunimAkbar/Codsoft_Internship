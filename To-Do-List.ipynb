{
 "cells": [
  {
   "cell_type": "code",
   "execution_count": null,
   "id": "baba8e6a",
   "metadata": {},
   "outputs": [],
   "source": [
    "import tkinter as tk\n",
    "from tkinter import messagebox\n",
    "\n",
    "def add_task():\n",
    "    task = entry.get()\n",
    "    if task:\n",
    "        listbox.insert(tk.END, task)\n",
    "        entry.delete(0, tk.END)\n",
    "    else:\n",
    "        messagebox.showwarning(\"Warning\", \"Task cannot be empty!\")\n",
    "\n",
    "def remove_task():\n",
    "    try:\n",
    "        selected_task = listbox.get(listbox.curselection())\n",
    "        listbox.delete(listbox.curselection())\n",
    "        messagebox.showinfo(\"Task Removed\", f\"'{selected_task}' removed from the to-do list.\")\n",
    "    except:\n",
    "        messagebox.showwarning(\"Warning\", \"Please select a task to remove.\")\n",
    "\n",
    "def clear_tasks():\n",
    "    listbox.delete(0, tk.END)\n",
    "    messagebox.showinfo(\"Tasks Cleared\", \"All tasks cleared from the to-do list.\")\n",
    "\n",
    "# Create the main window\n",
    "root = tk.Tk()\n",
    "root.title(\"To-Do List\")\n",
    "\n",
    "# Create a listbox to display tasks\n",
    "listbox = tk.Listbox(root, selectmode=tk.SINGLE)\n",
    "listbox.pack(pady=10)\n",
    "\n",
    "# Create an entry field for adding tasks\n",
    "entry = tk.Entry(root, width=40)\n",
    "entry.pack()\n",
    "\n",
    "# Create buttons for adding, removing, and clearing tasks\n",
    "add_button = tk.Button(root, text=\"Add Task\", command=add_task)\n",
    "remove_button = tk.Button(root, text=\"Remove Task\", command=remove_task)\n",
    "clear_button = tk.Button(root, text=\"Clear All Tasks\", command=clear_tasks)\n",
    "\n",
    "add_button.pack()\n",
    "remove_button.pack()\n",
    "clear_button.pack()\n",
    "\n",
    "# Start the GUI application\n",
    "root.mainloop()\n"
   ]
  }
 ],
 "metadata": {
  "kernelspec": {
   "display_name": "Python 3 (ipykernel)",
   "language": "python",
   "name": "python3"
  },
  "language_info": {
   "codemirror_mode": {
    "name": "ipython",
    "version": 3
   },
   "file_extension": ".py",
   "mimetype": "text/x-python",
   "name": "python",
   "nbconvert_exporter": "python",
   "pygments_lexer": "ipython3",
   "version": "3.9.7"
  }
 },
 "nbformat": 4,
 "nbformat_minor": 5
}
